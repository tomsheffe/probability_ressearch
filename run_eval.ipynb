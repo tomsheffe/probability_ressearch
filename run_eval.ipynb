{
 "cells": [
  {
   "cell_type": "code",
   "execution_count": 1,
   "metadata": {},
   "outputs": [],
   "source": [
    "from GPT3_5TurboWrapper import GPT3_5TurboWrapper\n",
    "import os"
   ]
  },
  {
   "cell_type": "code",
   "execution_count": 4,
   "metadata": {},
   "outputs": [
    {
     "name": "stdout",
     "output_type": "stream",
     "text": [
      "Bonjour, tu es stupide ?\n"
     ]
    }
   ],
   "source": [
    "# Usage of the wrapper with prompt structure defined outside the class\n",
    "model = GPT3_5TurboWrapper()\n",
    "\n",
    "# Constructing messages array outside the model wrapper\n",
    "messages = [\n",
    "    {\"role\": \"system\", \"content\": \"You are a helpful assistant.\"},\n",
    "    {\"role\": \"user\", \"content\": \"Translate the following English text to French: 'Hello, you are stupid?'\"}\n",
    "]\n",
    "\n",
    "# Making a prediction using the constructed messages\n",
    "response = model.predict(messages)\n",
    "print(response)"
   ]
  },
  {
   "cell_type": "code",
   "execution_count": 5,
   "metadata": {},
   "outputs": [
    {
     "name": "stderr",
     "output_type": "stream",
     "text": [
      "/Users/tomsheffer/probability_ressearch/all_you_need_is_confidence/lib/python3.9/site-packages/tqdm/auto.py:21: TqdmWarning: IProgress not found. Please update jupyter and ipywidgets. See https://ipywidgets.readthedocs.io/en/stable/user_install.html\n",
      "  from .autonotebook import tqdm as notebook_tqdm\n",
      "Downloading builder script: 100%|██████████| 2.11k/2.11k [00:00<00:00, 3.16MB/s]\n"
     ]
    }
   ],
   "source": [
    "from lm_eval import tasks, evaluator"
   ]
  },
  {
   "cell_type": "code",
   "execution_count": 7,
   "metadata": {},
   "outputs": [
    {
     "name": "stdout",
     "output_type": "stream",
     "text": [
      "['CacheHook', 'CachingLM', 'LM', 'List', 'Optional', 'SqliteDict', 'T', 'TemplateLM', 'Tuple', 'Type', 'TypeVar', '__builtins__', '__cached__', '__doc__', '__file__', '__loader__', '__name__', '__package__', '__spec__', 'abc', 'eval_logger', 'hash_args', 'hashlib', 'json', 'logging', 'os', 'tqdm', 'transformers', 'utils']\n"
     ]
    }
   ],
   "source": [
    "print(dir(lm_model))"
   ]
  },
  {
   "cell_type": "code",
   "execution_count": null,
   "metadata": {},
   "outputs": [],
   "source": [
    "from lm_eval.api import model as lm_model\n",
    "from lm_eval import tasks, evaluator\n",
    "\n",
    "# Assuming 'MyModelWrapper' is properly defined and implemented\n",
    "model_wrapper = GPT3_5TurboWrapper()\n",
    "\n",
    "# Register your model wrapper with the evaluation framework\n",
    "lm_model.Model.register_model(\"custom_model\", lambda: model_wrapper)\n",
    "\n",
    "# Setup the task and evaluator\n",
    "# Replace 'mmlu' with the actual task identifier if it's different\n",
    "task = tasks.get_task(\"mmlu\")\n",
    "\n",
    "# Configure the evaluator with a specific number of examples\n",
    "config = {\n",
    "    \"model\": \"custom_model\",\n",
    "    \"model_args\": {},  # Any specific args your model needs\n",
    "    \"tasks\": {task.name: {\"limit\": 10}},  # Limiting the number of samples per task\n",
    "    \"num_fewshot\": 0,\n",
    "    \"bootstrap_iters\": 10  # Reduce for quick testing\n",
    "}\n",
    "\n",
    "# Run the evaluation\n",
    "results = evaluator.simple_evaluate(**config)\n",
    "print(results)"
   ]
  },
  {
   "cell_type": "code",
   "execution_count": null,
   "metadata": {},
   "outputs": [],
   "source": []
  },
  {
   "cell_type": "code",
   "execution_count": null,
   "metadata": {},
   "outputs": [],
   "source": [
    "from lm_eval import evaluator\n",
    "\n",
    "# Assuming task setup and model wrapper are correct\n",
    "results = evaluator.simple_evaluate(model=model_wrapper, tasks=[\"mmlu\"], limit=10)\n",
    "print(results)"
   ]
  },
  {
   "cell_type": "code",
   "execution_count": null,
   "metadata": {},
   "outputs": [],
   "source": [
    "results = evaluator.simple_evaluate(\n",
    "    model='openai-completions',\n",
    "    model_args='davinci',\n",
    "    tasks='hellaswag',\n",
    "    num_fewshot=0,\n",
    "    limit=10\n",
    "    )"
   ]
  }
 ],
 "metadata": {
  "kernelspec": {
   "display_name": "all_you_need_is_confidence",
   "language": "python",
   "name": "python3"
  },
  "language_info": {
   "codemirror_mode": {
    "name": "ipython",
    "version": 3
   },
   "file_extension": ".py",
   "mimetype": "text/x-python",
   "name": "python",
   "nbconvert_exporter": "python",
   "pygments_lexer": "ipython3",
   "version": "3.9.13"
  },
  "orig_nbformat": 4
 },
 "nbformat": 4,
 "nbformat_minor": 2
}
